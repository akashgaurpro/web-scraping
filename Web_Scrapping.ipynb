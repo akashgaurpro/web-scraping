{
  "nbformat": 4,
  "nbformat_minor": 0,
  "metadata": {
    "colab": {
      "name": "Web Scrapping",
      "provenance": [],
      "collapsed_sections": []
    },
    "kernelspec": {
      "display_name": "Python 3",
      "name": "python3"
    },
    "language_info": {
      "name": "python"
    }
  },
  "cells": [
    {
      "cell_type": "markdown",
      "metadata": {
        "id": "ZB2IZriG6uEV"
      },
      "source": [
        "**U S market web scrapping**"
      ]
    },
    {
      "cell_type": "code",
      "metadata": {
        "id": "sKmehVjg5E-v"
      },
      "source": [
        "import requests\n",
        "import bs4\n",
        "import pandas as pd\n",
        "import matplotlib.pyplot as plt"
      ],
      "execution_count": null,
      "outputs": []
    },
    {
      "cell_type": "code",
      "metadata": {
        "id": "Iw5If8Vv5R2s"
      },
      "source": [
        "url = 'https://money.cnn.com/data/us_markets/'"
      ],
      "execution_count": null,
      "outputs": []
    },
    {
      "cell_type": "code",
      "metadata": {
        "id": "xqwmiiYl5Vy-"
      },
      "source": [
        "response=requests.get(url)"
      ],
      "execution_count": null,
      "outputs": []
    },
    {
      "cell_type": "code",
      "metadata": {
        "id": "5e77sGPO5fPs"
      },
      "source": [
        "soup=bs4.BeautifulSoup(response.content,'html')"
      ],
      "execution_count": null,
      "outputs": []
    },
    {
      "cell_type": "code",
      "metadata": {
        "id": "xJeZPSAJ5oE1"
      },
      "source": [
        "div=soup.find('div',attrs={'id':'wsod_marketMoversContainer'})"
      ],
      "execution_count": null,
      "outputs": []
    },
    {
      "cell_type": "code",
      "metadata": {
        "id": "IhapVGH05xd2"
      },
      "source": [
        "stocks= {\n",
        "    'Gainers_&_Losers': [],\n",
        "    'Price': [],\n",
        "    'Change': [],\n",
        "    '%_Change' : []\n",
        "    }"
      ],
      "execution_count": null,
      "outputs": []
    },
    {
      "cell_type": "code",
      "metadata": {
        "id": "kY9EoCq75-jZ"
      },
      "source": [
        "all_tr=div.find_all('td',attrs={'class':'wsod_firstCol'})\n",
        "\n",
        "for name in all_tr:\n",
        "  stocks['Gainers_&_Losers'].append(name.text)\n",
        "\n",
        "all_td=div.find_all('td',attrs={'class':'wsod_aRight'})\n",
        "\n",
        "for i in range(0,len(all_td),3):\n",
        "  stocks['Price'].append(float(all_td[i].text))\n",
        "  stocks['Change'].append(float(all_td[i+1].text))\n",
        "  stocks['%_Change'].append(all_td[i+2].text)"
      ],
      "execution_count": null,
      "outputs": []
    },
    {
      "cell_type": "code",
      "metadata": {
        "id": "M-sHbtRq6nwu"
      },
      "source": [
        "f = pd.DataFrame.from_dict(stocks, orient='index')\n",
        "df = f.transpose()"
      ],
      "execution_count": null,
      "outputs": []
    },
    {
      "cell_type": "code",
      "metadata": {
        "colab": {
          "base_uri": "https://localhost:8080/",
          "height": 359
        },
        "id": "XqCNCG7C6qpl",
        "outputId": "705598d9-3a71-4f2d-bae4-ae56087f353f"
      },
      "source": [
        "df"
      ],
      "execution_count": null,
      "outputs": [
        {
          "output_type": "execute_result",
          "data": {
            "text/html": [
              "<div>\n",
              "<style scoped>\n",
              "    .dataframe tbody tr th:only-of-type {\n",
              "        vertical-align: middle;\n",
              "    }\n",
              "\n",
              "    .dataframe tbody tr th {\n",
              "        vertical-align: top;\n",
              "    }\n",
              "\n",
              "    .dataframe thead th {\n",
              "        text-align: right;\n",
              "    }\n",
              "</style>\n",
              "<table border=\"1\" class=\"dataframe\">\n",
              "  <thead>\n",
              "    <tr style=\"text-align: right;\">\n",
              "      <th></th>\n",
              "      <th>Gainers_&amp;_Losers</th>\n",
              "      <th>Price</th>\n",
              "      <th>Change</th>\n",
              "      <th>%_Change</th>\n",
              "    </tr>\n",
              "  </thead>\n",
              "  <tbody>\n",
              "    <tr>\n",
              "      <th>0</th>\n",
              "      <td>EFXEquifax Inc</td>\n",
              "      <td>163.55</td>\n",
              "      <td>9.03</td>\n",
              "      <td>+5.84%</td>\n",
              "    </tr>\n",
              "    <tr>\n",
              "      <th>1</th>\n",
              "      <td>FISFidelity National ...</td>\n",
              "      <td>156.16</td>\n",
              "      <td>8.2</td>\n",
              "      <td>+5.54%</td>\n",
              "    </tr>\n",
              "    <tr>\n",
              "      <th>2</th>\n",
              "      <td>IRMIron Mountain Inc</td>\n",
              "      <td>33.21</td>\n",
              "      <td>1.42</td>\n",
              "      <td>+4.47%</td>\n",
              "    </tr>\n",
              "    <tr>\n",
              "      <th>3</th>\n",
              "      <td>LHLaboratory Corpora...</td>\n",
              "      <td>194.94</td>\n",
              "      <td>7.43</td>\n",
              "      <td>+3.96%</td>\n",
              "    </tr>\n",
              "    <tr>\n",
              "      <th>4</th>\n",
              "      <td>AMATApplied Materials ...</td>\n",
              "      <td>67.68</td>\n",
              "      <td>2.3</td>\n",
              "      <td>+3.53%</td>\n",
              "    </tr>\n",
              "    <tr>\n",
              "      <th>5</th>\n",
              "      <td>NTAPNetApp Inc</td>\n",
              "      <td>54.81</td>\n",
              "      <td>-6.01</td>\n",
              "      <td>-9.88%</td>\n",
              "    </tr>\n",
              "    <tr>\n",
              "      <th>6</th>\n",
              "      <td>CTLCenturylink Inc</td>\n",
              "      <td>13.79</td>\n",
              "      <td>-1.37</td>\n",
              "      <td>-9.04%</td>\n",
              "    </tr>\n",
              "    <tr>\n",
              "      <th>7</th>\n",
              "      <td>KHCKraft Heinz Co</td>\n",
              "      <td>27.84</td>\n",
              "      <td>-2.2</td>\n",
              "      <td>-7.32%</td>\n",
              "    </tr>\n",
              "    <tr>\n",
              "      <th>8</th>\n",
              "      <td>HIIHuntington Ingalls...</td>\n",
              "      <td>250.62</td>\n",
              "      <td>-19.46</td>\n",
              "      <td>-7.21%</td>\n",
              "    </tr>\n",
              "    <tr>\n",
              "      <th>9</th>\n",
              "      <td>ZBRAZebra Technologies...</td>\n",
              "      <td>234.44</td>\n",
              "      <td>-17.55</td>\n",
              "      <td>-6.96%</td>\n",
              "    </tr>\n",
              "  </tbody>\n",
              "</table>\n",
              "</div>"
            ],
            "text/plain": [
              "            Gainers_&_Losers   Price Change %_Change\n",
              "0             EFXEquifax Inc  163.55   9.03   +5.84%\n",
              "1   FISFidelity National ...  156.16    8.2   +5.54%\n",
              "2       IRMIron Mountain Inc   33.21   1.42   +4.47%\n",
              "3    LHLaboratory Corpora...  194.94   7.43   +3.96%\n",
              "4  AMATApplied Materials ...   67.68    2.3   +3.53%\n",
              "5             NTAPNetApp Inc   54.81  -6.01   -9.88%\n",
              "6         CTLCenturylink Inc   13.79  -1.37   -9.04%\n",
              "7          KHCKraft Heinz Co   27.84   -2.2   -7.32%\n",
              "8   HIIHuntington Ingalls...  250.62 -19.46   -7.21%\n",
              "9  ZBRAZebra Technologies...  234.44 -17.55   -6.96%"
            ]
          },
          "metadata": {},
          "execution_count": 9
        }
      ]
    },
    {
      "cell_type": "markdown",
      "metadata": {
        "id": "PZk_VKmnrBXm"
      },
      "source": [
        "**Rediff Top Gainers**"
      ]
    },
    {
      "cell_type": "code",
      "metadata": {
        "id": "xoVdNJrlkF1O"
      },
      "source": [
        "from bs4 import BeautifulSoup\n",
        "from urllib.request import urlopen\n",
        "\n",
        "url = \"https://money.rediff.com/gainers/bse/daily/groupa?src=gain_lose\"\n",
        "page = urlopen(url)\n",
        "html = page.read().decode(\"utf-8\")\n",
        "soup = BeautifulSoup(html, \"html.parser\")"
      ],
      "execution_count": null,
      "outputs": []
    },
    {
      "cell_type": "code",
      "metadata": {
        "id": "KgxJuZwE4e4p"
      },
      "source": [
        "count = 0\n",
        "a=[]\n",
        "b = []\n",
        "for tr in soup.findAll('tbody')[0].findAll('tr'):\n",
        "    count+=1\n",
        "    for tr in soup.findAll('tr')[count].findAll('td'):\n",
        "      a.append(tr.text)"
      ],
      "execution_count": null,
      "outputs": []
    },
    {
      "cell_type": "code",
      "metadata": {
        "id": "ZEExIfLGHo7E"
      },
      "source": [
        "b = []\n",
        "for i in range(0,len(a),5):\n",
        "  b.append(a[i:i+5])\n",
        "#print(b)"
      ],
      "execution_count": null,
      "outputs": []
    },
    {
      "cell_type": "code",
      "metadata": {
        "id": "uPBum176IQ2L"
      },
      "source": [
        "import pandas as pd\n",
        "import numpy as np\n",
        "df = pd.DataFrame(b, columns =['Company','Group','Prev Close (Rs)','Current Price (Rs)','% Changer']) \n",
        "df = df.replace('\\n',' ', regex=True)\n",
        "df = df.replace('\\t',' ', regex=True)"
      ],
      "execution_count": null,
      "outputs": []
    },
    {
      "cell_type": "code",
      "metadata": {
        "colab": {
          "base_uri": "https://localhost:8080/",
          "height": 419
        },
        "id": "lS9pOX_XIuwp",
        "outputId": "9aac673f-c1ec-4d3f-a1f9-14fad7281e33"
      },
      "source": [
        "df"
      ],
      "execution_count": null,
      "outputs": [
        {
          "output_type": "execute_result",
          "data": {
            "text/html": [
              "<div>\n",
              "<style scoped>\n",
              "    .dataframe tbody tr th:only-of-type {\n",
              "        vertical-align: middle;\n",
              "    }\n",
              "\n",
              "    .dataframe tbody tr th {\n",
              "        vertical-align: top;\n",
              "    }\n",
              "\n",
              "    .dataframe thead th {\n",
              "        text-align: right;\n",
              "    }\n",
              "</style>\n",
              "<table border=\"1\" class=\"dataframe\">\n",
              "  <thead>\n",
              "    <tr style=\"text-align: right;\">\n",
              "      <th></th>\n",
              "      <th>Company</th>\n",
              "      <th>Group</th>\n",
              "      <th>Prev Close (Rs)</th>\n",
              "      <th>Current Price (Rs)</th>\n",
              "      <th>% Changer</th>\n",
              "    </tr>\n",
              "  </thead>\n",
              "  <tbody>\n",
              "    <tr>\n",
              "      <th>0</th>\n",
              "      <td>Reliance Ind.Inf</td>\n",
              "      <td>A</td>\n",
              "      <td>662.35</td>\n",
              "      <td>728.55</td>\n",
              "      <td>+   9.99</td>\n",
              "    </tr>\n",
              "    <tr>\n",
              "      <th>1</th>\n",
              "      <td>Jai Corp Ltd.</td>\n",
              "      <td>A</td>\n",
              "      <td>135.40</td>\n",
              "      <td>147.85</td>\n",
              "      <td>+   9.19</td>\n",
              "    </tr>\n",
              "    <tr>\n",
              "      <th>2</th>\n",
              "      <td>Sobha</td>\n",
              "      <td>A</td>\n",
              "      <td>768.45</td>\n",
              "      <td>834.25</td>\n",
              "      <td>+   8.56</td>\n",
              "    </tr>\n",
              "    <tr>\n",
              "      <th>3</th>\n",
              "      <td>Caplin Point Lab</td>\n",
              "      <td>A</td>\n",
              "      <td>740.05</td>\n",
              "      <td>803.20</td>\n",
              "      <td>+   8.53</td>\n",
              "    </tr>\n",
              "    <tr>\n",
              "      <th>4</th>\n",
              "      <td>IndiaMART InterMESH</td>\n",
              "      <td>A</td>\n",
              "      <td>8,140.20</td>\n",
              "      <td>8,813.45</td>\n",
              "      <td>+   8.27</td>\n",
              "    </tr>\n",
              "    <tr>\n",
              "      <th>...</th>\n",
              "      <td>...</td>\n",
              "      <td>...</td>\n",
              "      <td>...</td>\n",
              "      <td>...</td>\n",
              "      <td>...</td>\n",
              "    </tr>\n",
              "    <tr>\n",
              "      <th>382</th>\n",
              "      <td>Hawkins Cookers</td>\n",
              "      <td>A</td>\n",
              "      <td>6,224.35</td>\n",
              "      <td>6,227.05</td>\n",
              "      <td>+   0.04</td>\n",
              "    </tr>\n",
              "    <tr>\n",
              "      <th>383</th>\n",
              "      <td>Panacea Biotec L</td>\n",
              "      <td>A</td>\n",
              "      <td>295.50</td>\n",
              "      <td>295.60</td>\n",
              "      <td>+   0.03</td>\n",
              "    </tr>\n",
              "    <tr>\n",
              "      <th>384</th>\n",
              "      <td>ICRA Ltd.</td>\n",
              "      <td>A</td>\n",
              "      <td>3,570.55</td>\n",
              "      <td>3,571.35</td>\n",
              "      <td>+   0.02</td>\n",
              "    </tr>\n",
              "    <tr>\n",
              "      <th>385</th>\n",
              "      <td>Emami</td>\n",
              "      <td>A</td>\n",
              "      <td>605.45</td>\n",
              "      <td>605.55</td>\n",
              "      <td>+   0.02</td>\n",
              "    </tr>\n",
              "    <tr>\n",
              "      <th>386</th>\n",
              "      <td>Navin Fluorine Inter</td>\n",
              "      <td>A</td>\n",
              "      <td>4,093.80</td>\n",
              "      <td>4,094.20</td>\n",
              "      <td>+   0.01</td>\n",
              "    </tr>\n",
              "  </tbody>\n",
              "</table>\n",
              "<p>387 rows × 5 columns</p>\n",
              "</div>"
            ],
            "text/plain": [
              "                                Company Group  ... Current Price (Rs) % Changer\n",
              "0               Reliance Ind.Inf            A  ...             728.55  +   9.99\n",
              "1                  Jai Corp Ltd.            A  ...             147.85  +   9.19\n",
              "2                          Sobha            A  ...             834.25  +   8.56\n",
              "3               Caplin Point Lab            A  ...             803.20  +   8.53\n",
              "4            IndiaMART InterMESH            A  ...           8,813.45  +   8.27\n",
              "..                                  ...   ...  ...                ...       ...\n",
              "382              Hawkins Cookers            A  ...           6,227.05  +   0.04\n",
              "383             Panacea Biotec L            A  ...             295.60  +   0.03\n",
              "384                    ICRA Ltd.            A  ...           3,571.35  +   0.02\n",
              "385                        Emami            A  ...             605.55  +   0.02\n",
              "386         Navin Fluorine Inter            A  ...           4,094.20  +   0.01\n",
              "\n",
              "[387 rows x 5 columns]"
            ]
          },
          "metadata": {},
          "execution_count": 14
        }
      ]
    }
  ]
}